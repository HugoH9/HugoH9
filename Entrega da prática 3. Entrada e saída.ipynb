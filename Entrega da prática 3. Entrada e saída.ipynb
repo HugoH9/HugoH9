{
 "cells": [
  {
   "cell_type": "code",
   "execution_count": 17,
   "id": "b021b3da",
   "metadata": {},
   "outputs": [
    {
     "name": "stdout",
     "output_type": "stream",
     "text": [
      "Digite um número: 12\n",
      "O número digitado é: 12\n",
      "O tipo de dado é: <class 'str'>\n",
      "Digite um número: 12\n",
      "O número digitado é: 12\n",
      "O tipo de dado é: <class 'int'>\n",
      "Digite um número: 12\n",
      "O número digitado é: 12.0\n",
      "O tipo de dado é: <class 'float'>\n"
     ]
    }
   ],
   "source": [
    "numero = input(\"Digite um número: \")\n",
    "print(\"O número digitado é:\", numero)\n",
    "print(\"O tipo de dado é:\", type(numero))\n",
    "\n",
    "numero_int = int(input(\"Digite um número: \"))\n",
    "print(\"O número digitado é:\", numero_int)\n",
    "print(\"O tipo de dado é:\", type(numero_int))\n",
    "\n",
    "numero_float = float(input(\"Digite um número: \"))\n",
    "print(\"O número digitado é:\", numero_float)\n",
    "print(\"O tipo de dado é:\", type(numero_float))\n"
   ]
  },
  {
   "cell_type": "code",
   "execution_count": null,
   "id": "2e0ef461",
   "metadata": {},
   "outputs": [],
   "source": [
    "#NESTE EXERCICIO 1, O QUE FOI PEDIDO SEGUNDO O QUE O PROFESSOR\n",
    "#DISSE NO VIDEO É QUE TEMOS QUE TEMOS QUE PEDIR UM !!NUMERO!! AO USUÁRIO\n",
    "# E O PROPRIO PROFESSOR DISSE QUE NAO IMPORTA O QUE O USUARIO ESCREVER ALI SEMPRE RETORNARÁ O MESMO\n",
    "# TIPO DE VALOR QUE É \" STR (STRING)\". ENTAO É NORMAL QUE MESMO QUE EU ESCREVA UM NUMERO,NA HORA DE \n",
    "# DIZER O TIPO DE DADO O SISTEMA DIZ QUE É \"STR (INTRING)\" POR QUE NAO FOI CONVERTIDO AINDA!\n",
    "# NA PRIMEIRA ALINEA DO EX1 NAO É PEDIDO PARA CONVERTER,LOGO O VALOR MESMO SENDO UM NUMERO SERA DE TIPO STR!\n",
    "# PODEM VER QUE NAS PROXIMAS ALINEAS DO EX1 EU JA PEÇO PARA CONVERTER EM TIPO INTEIRO OU FLOAT POIS O PEDIDO ERA ISSO!\n",
    "# NAO ESTÁ ERRADO A ALINEA 1,POIS EU APENAS FIZ O QUE FOI PEDIDO !"
   ]
  },
  {
   "cell_type": "code",
   "execution_count": 4,
   "id": "2b1d43d3",
   "metadata": {},
   "outputs": [],
   "source": [
    "#ex2"
   ]
  },
  {
   "cell_type": "code",
   "execution_count": 5,
   "id": "06adfe11",
   "metadata": {},
   "outputs": [
    {
     "data": {
      "text/plain": [
       "'           Olá Mundo'"
      ]
     },
     "execution_count": 5,
     "metadata": {},
     "output_type": "execute_result"
    }
   ],
   "source": [
    "\"{:>20}\".format(\"Olá Mundo\")\n"
   ]
  },
  {
   "cell_type": "code",
   "execution_count": 6,
   "id": "448be6be",
   "metadata": {},
   "outputs": [
    {
     "data": {
      "text/plain": [
       "'Olá'"
      ]
     },
     "execution_count": 6,
     "metadata": {},
     "output_type": "execute_result"
    }
   ],
   "source": [
    "\"{:.3}\".format(\"Olá Mundo\")\n"
   ]
  },
  {
   "cell_type": "code",
   "execution_count": 7,
   "id": "06f1390c",
   "metadata": {},
   "outputs": [
    {
     "data": {
      "text/plain": [
       "'         Ol         '"
      ]
     },
     "execution_count": 7,
     "metadata": {},
     "output_type": "execute_result"
    }
   ],
   "source": [
    "\"{:^20.2}\".format(\"Olá Mundo\")\n"
   ]
  },
  {
   "cell_type": "code",
   "execution_count": 8,
   "id": "44509064",
   "metadata": {},
   "outputs": [
    {
     "data": {
      "text/plain": [
       "'00150'"
      ]
     },
     "execution_count": 8,
     "metadata": {},
     "output_type": "execute_result"
    }
   ],
   "source": [
    "\"{:05d}\".format(150)\n"
   ]
  },
  {
   "cell_type": "code",
   "execution_count": 9,
   "id": "28970894",
   "metadata": {},
   "outputs": [
    {
     "data": {
      "text/plain": [
       "'   7887'"
      ]
     },
     "execution_count": 9,
     "metadata": {},
     "output_type": "execute_result"
    }
   ],
   "source": [
    "\"{:7d}\".format(7887)\n"
   ]
  },
  {
   "cell_type": "code",
   "execution_count": 10,
   "id": "26e2b9be",
   "metadata": {},
   "outputs": [
    {
     "data": {
      "text/plain": [
       "'20.020'"
      ]
     },
     "execution_count": 10,
     "metadata": {},
     "output_type": "execute_result"
    }
   ],
   "source": [
    "\"{:03.3f}\".format(20.02)\n"
   ]
  }
 ],
 "metadata": {
  "kernelspec": {
   "display_name": "Python 3 (ipykernel)",
   "language": "python",
   "name": "python3"
  },
  "language_info": {
   "codemirror_mode": {
    "name": "ipython",
    "version": 3
   },
   "file_extension": ".py",
   "mimetype": "text/x-python",
   "name": "python",
   "nbconvert_exporter": "python",
   "pygments_lexer": "ipython3",
   "version": "3.9.12"
  }
 },
 "nbformat": 4,
 "nbformat_minor": 5
}
