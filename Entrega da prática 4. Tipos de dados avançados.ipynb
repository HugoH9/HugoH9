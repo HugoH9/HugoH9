{
 "cells": [
  {
   "cell_type": "code",
   "execution_count": 1,
   "id": "68490c0c",
   "metadata": {},
   "outputs": [
    {
     "name": "stdout",
     "output_type": "stream",
     "text": [
      "Lista: ['carro', 'moto', 'bicicleta']\n",
      "Tupla: ('maçã', 'banana', 'laranja')\n",
      "2.º elemento da lista: moto\n",
      "Penúltimo da tupla: banana\n",
      "Lista modificada: ['barco', 'moto', 'bicicleta']\n",
      "Tupla modificada: ('maçã', 'banana', 'pera')\n",
      "Tamanho da lista: 3\n",
      "Tamanho da tupla: 3\n",
      "Elemento encontrado na lista: True\n",
      "Elemento encontrado na tupla: False\n",
      "Lista com novo elemento: ['barco', 'moto', 'bicicleta', 'carro']\n",
      "Tupla com novo elemento: ('maçã', 'banana', 'pera', 'abacaxi')\n",
      "Lista após apagar: []\n",
      "Tupla após apagar: ()\n"
     ]
    }
   ],
   "source": [
    "# Passo 1: Criar uma lista e uma tupla com strings\n",
    "minha_lista = [\"carro\", \"moto\", \"bicicleta\"]\n",
    "minha_tupla = (\"maçã\", \"banana\", \"laranja\")\n",
    "\n",
    "# Passo 2: Imprimir a lista e a tupla\n",
    "print(\"Lista:\", minha_lista)\n",
    "print(\"Tupla:\", minha_tupla)\n",
    "\n",
    "# Passo 3: Imprimir o 2.º elemento da lista e o penúltimo da tupla\n",
    "print(\"2.º elemento da lista:\", minha_lista[1])\n",
    "print(\"Penúltimo da tupla:\", minha_tupla[-2])\n",
    "\n",
    "# Passo 4: Modificar um elemento da lista e da tupla e imprimir o resultado\n",
    "minha_lista[0] = \"barco\"\n",
    "# Como as tuplas são imutáveis, precisamos criar uma nova tupla\n",
    "minha_tupla = minha_tupla[:2] + (\"pera\",)\n",
    "print(\"Lista modificada:\", minha_lista)\n",
    "print(\"Tupla modificada:\", minha_tupla)\n",
    "\n",
    "# Passo 5: Mostrar o tamanho da lista e da tupla\n",
    "print(\"Tamanho da lista:\", len(minha_lista))\n",
    "print(\"Tamanho da tupla:\", len(minha_tupla))\n",
    "\n",
    "# Passo 6: Procurar um elemento na lista e na tupla e imprimir o resultado\n",
    "elemento_buscado = \"moto\"\n",
    "print(\"Elemento encontrado na lista:\", elemento_buscado in minha_lista)\n",
    "print(\"Elemento encontrado na tupla:\", elemento_buscado in minha_tupla)\n",
    "\n",
    "# Passo 7: Adicionar um elemento à lista e à tupla e imprimir\n",
    "minha_lista.append(\"carro\")\n",
    "minha_tupla = minha_tupla + (\"abacaxi\",)\n",
    "print(\"Lista com novo elemento:\", minha_lista)\n",
    "print(\"Tupla com novo elemento:\", minha_tupla)\n",
    "\n",
    "# Apagar o conteúdo da lista e da tupla e imprimir\n",
    "minha_lista.clear()\n",
    "minha_tupla = ()\n",
    "print(\"Lista após apagar:\", minha_lista)\n",
    "print(\"Tupla após apagar:\", minha_tupla)\n"
   ]
  },
  {
   "cell_type": "code",
   "execution_count": null,
   "id": "f2b0b6a5",
   "metadata": {},
   "outputs": [],
   "source": []
  },
  {
   "cell_type": "code",
   "execution_count": 2,
   "id": "92940496",
   "metadata": {},
   "outputs": [
    {
     "name": "stdout",
     "output_type": "stream",
     "text": [
      "Set: {'pizza', 'guitarra', 'carro'}\n",
      "Dicionário: {'fruta': 'maçã', 'cidade': 'Nova York', 'filme': 'Matrix'}\n",
      "2º elemento do set: guitarra\n",
      "Valor da primeira chave-valor do dicionário: maçã\n",
      "Set modificado: {'pizza', 'guitarra'}\n",
      "Dicionário modificado: {'fruta': 'banana', 'cidade': 'Nova York', 'filme': 'Matrix'}\n",
      "Tamanho do set: 2\n",
      "Tamanho do dicionário: 3\n",
      "Elemento 'pizza' encontrado no set: True\n",
      "Elemento 'maçã' encontrado no dicionário: False\n",
      "Set com novo elemento: {'bicicleta', 'pizza', 'guitarra'}\n",
      "Dicionário com nova chave-valor: {'fruta': 'banana', 'cidade': 'Nova York', 'filme': 'Matrix', 'animal': 'gato'}\n",
      "Set vazio: set()\n",
      "Dicionário vazio: {}\n"
     ]
    }
   ],
   "source": [
    "# Criar um set com 3 elementos\n",
    "meu_set = {\"carro\", \"pizza\", \"guitarra\"}\n",
    "\n",
    "# Criar um dicionário com 3 pares chave-valor\n",
    "meu_dicionario = {\"fruta\": \"maçã\", \"cidade\": \"Nova York\", \"filme\": \"Matrix\"}\n",
    "\n",
    "# Mostrar o set e o dicionário\n",
    "print(\"Set:\", meu_set)\n",
    "print(\"Dicionário:\", meu_dicionario)\n",
    "\n",
    "# Mostrar o 2º elemento do set e o valor da primeira chave-valor do dicionário\n",
    "segundo_elemento_set = list(meu_set)[1]\n",
    "primeira_chave_valor_dicionario = list(meu_dicionario.values())[0]\n",
    "print(\"2º elemento do set:\", segundo_elemento_set)\n",
    "print(\"Valor da primeira chave-valor do dicionário:\", primeira_chave_valor_dicionario)\n",
    "\n",
    "# Modificar um elemento do set e do dicionário\n",
    "meu_set.remove(\"carro\")\n",
    "meu_dicionario[\"fruta\"] = \"banana\"\n",
    "\n",
    "# Mostrar o resultado final\n",
    "print(\"Set modificado:\", meu_set)\n",
    "print(\"Dicionário modificado:\", meu_dicionario)\n",
    "\n",
    "# Mostrar o tamanho do set e do dicionário\n",
    "tamanho_set = len(meu_set)\n",
    "tamanho_dicionario = len(meu_dicionario)\n",
    "print(\"Tamanho do set:\", tamanho_set)\n",
    "print(\"Tamanho do dicionário:\", tamanho_dicionario)\n",
    "\n",
    "# Realizar uma pesquisa de um elemento no set e no dicionário\n",
    "elemento_pesquisado_set = \"pizza\" in meu_set\n",
    "elemento_pesquisado_dicionario = \"maçã\" in meu_dicionario.values()\n",
    "print(\"Elemento 'pizza' encontrado no set:\", elemento_pesquisado_set)\n",
    "print(\"Elemento 'maçã' encontrado no dicionário:\", elemento_pesquisado_dicionario)\n",
    "\n",
    "# Adicionar um elemento ao set e uma chave-valor ao dicionário\n",
    "meu_set.add(\"bicicleta\")\n",
    "meu_dicionario[\"animal\"] = \"gato\"\n",
    "\n",
    "# Imprimir o set e o dicionário novamente para verificar\n",
    "print(\"Set com novo elemento:\", meu_set)\n",
    "print(\"Dicionário com nova chave-valor:\", meu_dicionario)\n",
    "\n",
    "# Apagar o conteúdo do set e do dicionário\n",
    "meu_set.clear()\n",
    "meu_dicionario.clear()\n",
    "\n",
    "# Mostrar o set e o dicionário novamente para verificar\n",
    "print(\"Set vazio:\", meu_set)\n",
    "print(\"Dicionário vazio:\", meu_dicionario)\n"
   ]
  },
  {
   "cell_type": "code",
   "execution_count": null,
   "id": "b58878aa",
   "metadata": {},
   "outputs": [],
   "source": []
  },
  {
   "cell_type": "code",
   "execution_count": 3,
   "id": "9722e17c",
   "metadata": {},
   "outputs": [
    {
     "name": "stdout",
     "output_type": "stream",
     "text": [
      "Digite o primeiro número: 1\n",
      "Digite o segundo número: 2\n",
      "Digite o terceiro número: 3\n",
      "O somatório dos números é: 6.0\n"
     ]
    }
   ],
   "source": [
    "# Pedir ao usuário 3 números e adicioná-los a uma lista\n",
    "numero1 = float(input(\"Digite o primeiro número: \"))\n",
    "numero2 = float(input(\"Digite o segundo número: \"))\n",
    "numero3 = float(input(\"Digite o terceiro número: \"))\n",
    "\n",
    "lista_numeros = [numero1, numero2, numero3]\n",
    "\n",
    "# Calcular o somatório dos elementos da lista\n",
    "somatorio = sum(lista_numeros)\n",
    "\n",
    "# Imprimir o resultado\n",
    "print(\"O somatório dos números é:\", somatorio)"
   ]
  },
  {
   "cell_type": "code",
   "execution_count": null,
   "id": "529a4a0d",
   "metadata": {},
   "outputs": [],
   "source": []
  },
  {
   "cell_type": "code",
   "execution_count": 4,
   "id": "ae0fa133",
   "metadata": {},
   "outputs": [
    {
     "name": "stdout",
     "output_type": "stream",
     "text": [
      "Digite o primeiro número: 1\n",
      "Digite o segundo número: 2\n",
      "Digite o terceiro número: 3\n",
      "O somatório dos números é: 6.0\n",
      "A média dos números é: 2.0\n"
     ]
    }
   ],
   "source": [
    "# Pedir ao usuário 3 números e adicioná-los a uma lista\n",
    "numero1 = float(input(\"Digite o primeiro número: \"))\n",
    "numero2 = float(input(\"Digite o segundo número: \"))\n",
    "numero3 = float(input(\"Digite o terceiro número: \"))\n",
    "\n",
    "lista_numeros = [numero1, numero2, numero3]\n",
    "\n",
    "# Calcular o somatório dos elementos da lista\n",
    "somatorio = sum(lista_numeros)\n",
    "\n",
    "# Calcular a média aritmética dos elementos da lista\n",
    "media = somatorio / len(lista_numeros)\n",
    "\n",
    "# Imprimir o somatório e a média\n",
    "print(\"O somatório dos números é:\", somatorio)\n",
    "print(\"A média dos números é:\", media)"
   ]
  },
  {
   "cell_type": "code",
   "execution_count": null,
   "id": "85b27f40",
   "metadata": {},
   "outputs": [],
   "source": []
  },
  {
   "cell_type": "code",
   "execution_count": 5,
   "id": "dc5ceee0",
   "metadata": {},
   "outputs": [
    {
     "name": "stdout",
     "output_type": "stream",
     "text": [
      "[1, 1, 1, 3]\n",
      "[2, 2, 2, 6]\n",
      "[3, 3, 3, 9]\n",
      "[4, 4, 4, 12]\n"
     ]
    }
   ],
   "source": [
    "matriz = [\n",
    "    [1, 1, 1, 3],\n",
    "    [2, 2, 2, 7],\n",
    "    [3, 3, 3, 9],\n",
    "    [4, 4, 4, 13]\n",
    "]\n",
    "\n",
    "# Itera sobre cada sublista na matriz\n",
    "for sublist in matriz:\n",
    "    # Atualiza o quarto elemento com a soma dos três primeiros\n",
    "    sublist[3] = sum(sublist[:3])\n",
    "\n",
    "# Exibe a matriz atualizada\n",
    "for sublist in matriz:\n",
    "    print(sublist)"
   ]
  },
  {
   "cell_type": "code",
   "execution_count": null,
   "id": "d0b54b84",
   "metadata": {},
   "outputs": [],
   "source": []
  },
  {
   "cell_type": "code",
   "execution_count": 21,
   "id": "67c81e82",
   "metadata": {},
   "outputs": [
    {
     "name": "stdout",
     "output_type": "stream",
     "text": [
      "Carlos Perez teve nota 10.\n"
     ]
    }
   ],
   "source": [
    "# String invertida\n",
    "texto = \"zereP solraC,01\"\n",
    "\n",
    "# Inverter a string usando slicing\n",
    "texto_invertido = texto[::-1]\n",
    "\n",
    "# Dividir a string invertida em palavras usando a vírgula como separador\n",
    "palavras = texto_invertido.split(',')\n",
    "\n",
    "# Extrair o nome e as notas das palavras\n",
    "nota = palavras[0]\n",
    "notas = palavras[1]\n",
    "\n",
    "# Dividir as notas em nota1 e nota2\n",
    "nome1,nome2 = notas.split()\n",
    "\n",
    "# Formatando a saída desejada\n",
    "output = f\"{nota1} {nota2} teve nota {nome}.\"\n",
    "\n",
    "# Imprimindo o resultado\n",
    "print(output)\n"
   ]
  },
  {
   "cell_type": "code",
   "execution_count": null,
   "id": "71d225cd",
   "metadata": {},
   "outputs": [],
   "source": []
  },
  {
   "cell_type": "code",
   "execution_count": 22,
   "id": "b5efb2c7",
   "metadata": {},
   "outputs": [
    {
     "name": "stdout",
     "output_type": "stream",
     "text": [
      "David não é um administrador\n",
      "Juan não é um administrador\n",
      "Marta é um administrador\n",
      "Marcos é um administrador\n",
      "Elvira não é um administrador\n"
     ]
    }
   ],
   "source": [
    "# Criar um conjunto chamado utilizadores com os utilizadores Marta, David, Elvira, Juan e Marcos.\n",
    "utilizadores = {\"Marta\", \"David\", \"Elvira\", \"Juan\", \"Marcos\"}\n",
    "\n",
    "# Criar um conjunto chamado administradores com os administradores Juan e Marta.\n",
    "administradores = {\"Juan\", \"Marta\"}\n",
    "\n",
    "# Apagar o administrador Juan do conjunto de administradores.\n",
    "administradores.discard(\"Juan\")\n",
    "\n",
    "# Adicionar Marcos como um novo administrador, mas não o apagar do conjunto de utilizadores.\n",
    "administradores.add(\"Marcos\")\n",
    "\n",
    "# Imprimir todos os utilizadores de forma dinâmica (loop); indicar também se os utilizadores são administradores (ou não).\n",
    "for utilizador in utilizadores:\n",
    "    if utilizador in administradores:\n",
    "        print(f\"{utilizador} é um administrador\")\n",
    "    else:\n",
    "        print(f\"{utilizador} não é um administrador\")\n"
   ]
  },
  {
   "cell_type": "code",
   "execution_count": null,
   "id": "2506877d",
   "metadata": {},
   "outputs": [],
   "source": []
  },
  {
   "cell_type": "code",
   "execution_count": 23,
   "id": "e2686416",
   "metadata": {},
   "outputs": [
    {
     "name": "stdout",
     "output_type": "stream",
     "text": [
      "Atributos do Cavaleiro:\n",
      "{'vida': 4, 'ataque': 2, 'defesa': 4, 'alcance': 2}\n",
      "\n",
      "Atributos do Guerreiro:\n",
      "{'vida': 2, 'ataque': 4, 'defesa': 2, 'alcance': 4}\n",
      "\n",
      "Atributos do Arqueiro:\n",
      "{'vida': 2, 'ataque': 4, 'defesa': 1.0, 'alcance': 4}\n"
     ]
    }
   ],
   "source": [
    "# Definir os dicionários de atributos iniciais\n",
    "cavaleiro = { 'vida': 2, 'ataque': 2, 'defesa': 2, 'alcance': 2 }\n",
    "guerreiro = { 'vida': 2, 'ataque': 2, 'defesa': 2, 'alcance': 2 }\n",
    "arqueiro = { 'vida': 2, 'ataque': 2, 'defesa': 2, 'alcance': 2 }\n",
    "\n",
    "# Atualizar os atributos para o segundo nível do jogo\n",
    "cavaleiro['vida'] *= 2\n",
    "cavaleiro['defesa'] *= 2\n",
    "\n",
    "guerreiro['ataque'] *= 2\n",
    "guerreiro['alcance'] *= 2\n",
    "\n",
    "arqueiro['vida'] = guerreiro['vida']\n",
    "arqueiro['ataque'] = guerreiro['ataque']\n",
    "arqueiro['defesa'] /= 2\n",
    "arqueiro['alcance'] *= 2\n",
    "\n",
    "# Imprimir os atributos atualizados das três personagens\n",
    "print(\"Atributos do Cavaleiro:\")\n",
    "print(cavaleiro)\n",
    "\n",
    "print(\"\\nAtributos do Guerreiro:\")\n",
    "print(guerreiro)\n",
    "\n",
    "print(\"\\nAtributos do Arqueiro:\")\n",
    "print(arqueiro)\n"
   ]
  },
  {
   "cell_type": "code",
   "execution_count": null,
   "id": "2c8d4207",
   "metadata": {},
   "outputs": [],
   "source": []
  }
 ],
 "metadata": {
  "kernelspec": {
   "display_name": "Python 3 (ipykernel)",
   "language": "python",
   "name": "python3"
  },
  "language_info": {
   "codemirror_mode": {
    "name": "ipython",
    "version": 3
   },
   "file_extension": ".py",
   "mimetype": "text/x-python",
   "name": "python",
   "nbconvert_exporter": "python",
   "pygments_lexer": "ipython3",
   "version": "3.9.12"
  }
 },
 "nbformat": 4,
 "nbformat_minor": 5
}
