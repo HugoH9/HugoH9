{
 "cells": [
  {
   "cell_type": "code",
   "execution_count": 1,
   "id": "5c0a814e",
   "metadata": {},
   "outputs": [
    {
     "name": "stdout",
     "output_type": "stream",
     "text": [
      "Diferença em dias:  2440\n",
      "Diferença em horas:  0\n",
      "Diferença em minutos:  35\n",
      "Diferença em segundos:  0\n"
     ]
    }
   ],
   "source": [
    "from datetime import datetime\n",
    "\n",
    "filho1 = datetime(1985, 10, 20, 17, 55)\n",
    "filho2 = datetime(1992, 6, 25, 18, 30)\n",
    "diferenca = filho2 - filho1\n",
    "\n",
    "print(\"Diferença em dias: \", diferenca.days)\n",
    "print(\"Diferença em horas: \", diferenca.seconds//3600)\n",
    "print(\"Diferença em minutos: \", (diferenca.seconds//60)%60)\n",
    "print(\"Diferença em segundos: \", diferenca.seconds%60)"
   ]
  },
  {
   "cell_type": "code",
   "execution_count": 2,
   "id": "6f085a2d",
   "metadata": {},
   "outputs": [
    {
     "name": "stdout",
     "output_type": "stream",
     "text": [
      "20 de abril de 2022\n",
      "28 de janeiro de 2023\n"
     ]
    }
   ],
   "source": [
    "from datetime import datetime\n",
    "\n",
    "def formato_data(data):\n",
    "    meses = ('janeiro', 'fevereiro', 'março', 'abril', 'maio', 'junho', 'julho', 'agosto', 'setembro', 'outubro', 'novembro', 'dezembro')\n",
    "    dia = str(data.day)\n",
    "    mes = meses[data.month-1]\n",
    "    ano = str(data.year)\n",
    "    return dia + \" de \" + mes + \" de \" + ano\n",
    "\n",
    "data_predefinida = datetime(2022, 4, 20)\n",
    "data_atual = datetime.now()\n",
    "\n",
    "print(formato_data(data_predefinida))\n",
    "print(formato_data(data_atual))"
   ]
  },
  {
   "cell_type": "code",
   "execution_count": 6,
   "id": "b04951c3",
   "metadata": {},
   "outputs": [
    {
     "name": "stdout",
     "output_type": "stream",
     "text": [
      "Dia: 28\n",
      "Mês: 01\n",
      "Ano: 2023\n",
      "Hora: 04\n",
      "Minutos: 41\n",
      "Segundos (e milissegundos): 51,055653\n"
     ]
    }
   ],
   "source": [
    "from datetime import datetime\n",
    "\n",
    "data_atual = datetime.now()\n",
    "\n",
    "formato_dia = data_atual.strftime(\"Dia: %d\")\n",
    "formato_mes = data_atual.strftime(\"Mês: %m\")\n",
    "formato_ano = data_atual.strftime(\"Ano: %Y\")\n",
    "formato_hora = data_atual.strftime(\"Hora: %H\")\n",
    "formato_min = data_atual.strftime(\"Minutos: %M\")\n",
    "formato_seg = data_atual.strftime(\"Segundos (e milissegundos): %S,%f\")\n",
    "\n",
    "print(formato_dia)\n",
    "print(formato_mes)\n",
    "print(formato_ano)\n",
    "print(formato_hora)\n",
    "print(formato_min)\n",
    "print(formato_seg)"
   ]
  },
  {
   "cell_type": "code",
   "execution_count": null,
   "id": "5ba01a22",
   "metadata": {},
   "outputs": [],
   "source": []
  }
 ],
 "metadata": {
  "kernelspec": {
   "display_name": "Python 3 (ipykernel)",
   "language": "python",
   "name": "python3"
  },
  "language_info": {
   "codemirror_mode": {
    "name": "ipython",
    "version": 3
   },
   "file_extension": ".py",
   "mimetype": "text/x-python",
   "name": "python",
   "nbconvert_exporter": "python",
   "pygments_lexer": "ipython3",
   "version": "3.9.12"
  }
 },
 "nbformat": 4,
 "nbformat_minor": 5
}
