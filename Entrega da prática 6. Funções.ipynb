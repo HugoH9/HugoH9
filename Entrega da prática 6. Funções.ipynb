{
 "cells": [
  {
   "cell_type": "code",
   "execution_count": 14,
   "id": "b3b5225f",
   "metadata": {},
   "outputs": [
    {
     "name": "stdout",
     "output_type": "stream",
     "text": [
      "Digite a base do retângulo: 34\n",
      "Digite a altura do retângulo: 43\n",
      "A área do retângulo é: 1462.0\n"
     ]
    }
   ],
   "source": [
    "def area_retangulo():\n",
    "    base = float(input(\"Digite a base do retângulo: \"))\n",
    "    altura = float(input(\"Digite a altura do retângulo: \"))\n",
    "    area = base * altura\n",
    "    return area\n",
    "\n",
    "resultado = area_retangulo()\n",
    "print(\"A área do retângulo é:\", resultado)\n"
   ]
  },
  {
   "cell_type": "code",
   "execution_count": null,
   "id": "39602c13",
   "metadata": {},
   "outputs": [],
   "source": [
    "#ex2"
   ]
  },
  {
   "cell_type": "code",
   "execution_count": 15,
   "id": "25f0f5a9",
   "metadata": {},
   "outputs": [
    {
     "name": "stdout",
     "output_type": "stream",
     "text": [
      "Digite o valor do raio do círculo: 43\n",
      "A área do círculo é:  5808.804816487527\n"
     ]
    }
   ],
   "source": [
    "import math\n",
    "\n",
    "def area_circulo():\n",
    "    raio = float(input(\"Digite o valor do raio do círculo: \"))\n",
    "    area = math.pi * raio ** 2\n",
    "    return area\n",
    "\n",
    "resultado = area_circulo()\n",
    "print(\"A área do círculo é: \", resultado)"
   ]
  },
  {
   "cell_type": "code",
   "execution_count": null,
   "id": "da931e89",
   "metadata": {},
   "outputs": [],
   "source": [
    "#ex3"
   ]
  },
  {
   "cell_type": "code",
   "execution_count": 16,
   "id": "930f438a",
   "metadata": {},
   "outputs": [
    {
     "name": "stdout",
     "output_type": "stream",
     "text": [
      "-1\n",
      "1\n",
      "0\n"
     ]
    }
   ],
   "source": [
    "def relacao(num1, num2):\n",
    "    if num1 > num2:\n",
    "        return 1\n",
    "    elif num1 < num2:\n",
    "        return -1\n",
    "    else:\n",
    "        return 0\n",
    "print(relacao(5, 10))\n",
    "print(relacao(10, 5))\n",
    "print(relacao(5, 5))\n"
   ]
  },
  {
   "cell_type": "code",
   "execution_count": null,
   "id": "de6e8fd2",
   "metadata": {},
   "outputs": [],
   "source": [
    "#ex4"
   ]
  },
  {
   "cell_type": "code",
   "execution_count": 5,
   "id": "5029352a",
   "metadata": {},
   "outputs": [
    {
     "name": "stdout",
     "output_type": "stream",
     "text": [
      "Digite três números:\n",
      "Digite um número: 2\n",
      "Digite um número: 3\n",
      "Digite um número: 4\n",
      "O maior número é: 4\n"
     ]
    }
   ],
   "source": [
    "def ler_numero():\n",
    "    num = input(\"Digite um número: \")\n",
    "    while not num.isdigit():\n",
    "        print(\"Valor inválido. Digite um número inteiro.\")\n",
    "        num = input(\"Digite um número: \")\n",
    "    return int(num)\n",
    "\n",
    "def maior(a, b, c):\n",
    "    return max(a, b, c)\n",
    "\n",
    "print(\"Digite três números:\")\n",
    "num1 = ler_numero()\n",
    "num2 = ler_numero()\n",
    "num3 = ler_numero()\n",
    "\n",
    "print(\"O maior número é:\", maior(num1, num2, num3))\n"
   ]
  },
  {
   "cell_type": "code",
   "execution_count": null,
   "id": "615b02e8",
   "metadata": {},
   "outputs": [],
   "source": [
    "#ex5"
   ]
  },
  {
   "cell_type": "code",
   "execution_count": 13,
   "id": "8b705f5b",
   "metadata": {},
   "outputs": [
    {
     "name": "stdout",
     "output_type": "stream",
     "text": [
      "Insira o seu peso (em kg): 75\n",
      "Insira a sua altura (em metros, ex: 1.70): 1.80\n",
      "O seu IMC indica: 23.148148148148145\n"
     ]
    }
   ],
   "source": [
    "def imc():\n",
    "    peso = float(input(\"Insira o seu peso (em kg): \"))\n",
    "    altura = float(input(\"Insira a sua altura (em metros, ex: 1.70): \"))\n",
    "    return peso / (altura * altura)\n",
    "\n",
    "    if imc < 18.5:\n",
    "        print(\"Baixo peso: IMC = {:.2f}\".format(imc))\n",
    "    elif 18.5 <= imc < 25:\n",
    "        print(\"Normal: IMC = {:.2f}\".format(imc))\n",
    "    elif 25 <= imc < 30:\n",
    "        print(\"Sobrepeso: IMC = {:.2f}\".format(imc))\n",
    "    else:\n",
    "        print(\"Obesidade: IMC = {:.2f}\".format(imc))\n",
    "\n",
    "resultado = imc()\n",
    "print(\"O seu IMC indica:\", resultado)"
   ]
  },
  {
   "cell_type": "code",
   "execution_count": null,
   "id": "7fa2455d",
   "metadata": {},
   "outputs": [],
   "source": []
  }
 ],
 "metadata": {
  "kernelspec": {
   "display_name": "Python 3 (ipykernel)",
   "language": "python",
   "name": "python3"
  },
  "language_info": {
   "codemirror_mode": {
    "name": "ipython",
    "version": 3
   },
   "file_extension": ".py",
   "mimetype": "text/x-python",
   "name": "python",
   "nbconvert_exporter": "python",
   "pygments_lexer": "ipython3",
   "version": "3.9.12"
  }
 },
 "nbformat": 4,
 "nbformat_minor": 5
}
