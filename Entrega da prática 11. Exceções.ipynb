{
 "cells": [
  {
   "cell_type": "code",
   "execution_count": 2,
   "id": "e1e658d5",
   "metadata": {},
   "outputs": [
    {
     "name": "stdout",
     "output_type": "stream",
     "text": [
      "Não é possível dividir por zero. Por favor, forneça um número diferente de zero.\n"
     ]
    }
   ],
   "source": [
    "try:\n",
    "    resultado = 10/0\n",
    "except ZeroDivisionError:\n",
    "    print(\"Não é possível dividir por zero. Por favor, forneça um número diferente de zero.\")"
   ]
  },
  {
   "cell_type": "code",
   "execution_count": 3,
   "id": "b6125d69",
   "metadata": {},
   "outputs": [
    {
     "name": "stdout",
     "output_type": "stream",
     "text": [
      "O índice fornecido está fora dos limites da lista. Por favor, forneça um índice válido.\n"
     ]
    }
   ],
   "source": [
    "try:\n",
    "    lista = [1, 2, 3, 4, 5]\n",
    "    print(lista[10])\n",
    "except IndexError:\n",
    "    print(\"O índice fornecido está fora dos limites da lista. Por favor, forneça um índice válido.\")"
   ]
  },
  {
   "cell_type": "code",
   "execution_count": 4,
   "id": "c9e9a937",
   "metadata": {},
   "outputs": [
    {
     "name": "stdout",
     "output_type": "stream",
     "text": [
      "A chave fornecida não foi encontrada no dicionário. Por favor, forneça uma chave válida.\n"
     ]
    }
   ],
   "source": [
    "try:\n",
    "    cores = { 'vermelho':'red', 'verde':'green', 'preto':'black' }\n",
    "    print(cores['branco'])\n",
    "except KeyError:\n",
    "    print(\"A chave fornecida não foi encontrada no dicionário. Por favor, forneça uma chave válida.\")"
   ]
  },
  {
   "cell_type": "code",
   "execution_count": 7,
   "id": "fe735f39",
   "metadata": {},
   "outputs": [
    {
     "name": "stdout",
     "output_type": "stream",
     "text": [
      "Não é possível realizar operações matemáticas com tipos diferentes. Por favor, forneça valores numéricos.\n"
     ]
    }
   ],
   "source": [
    "try:\n",
    "    resultado = \"20\" + 15\n",
    "except TypeError:\n",
    "    print(\"Não é possível realizar operações matemáticas com tipos diferentes. Por favor, forneça valores numéricos.\")"
   ]
  },
  {
   "cell_type": "code",
   "execution_count": 8,
   "id": "157fbb3f",
   "metadata": {},
   "outputs": [
    {
     "name": "stdout",
     "output_type": "stream",
     "text": [
      "Erro: impossível adicionar elementos duplicados => -2\n",
      "[1, 5, -2, 10, 'Olá']\n"
     ]
    }
   ],
   "source": [
    "def agregar_uma_vez(lista, elemento):\n",
    "    try:\n",
    "        if elemento in lista:\n",
    "            raise ValueError(\"Erro: impossível adicionar elementos duplicados => \"+str(elemento))\n",
    "        lista.append(elemento)\n",
    "    except ValueError as e:\n",
    "        print(e)\n",
    "\n",
    "elementos = [1, 5, -2]\n",
    "agregar_uma_vez(elementos, 10)\n",
    "agregar_uma_vez(elementos, -2)\n",
    "agregar_uma_vez(elementos, \"Olá\")\n",
    "\n",
    "print(elementos)"
   ]
  },
  {
   "cell_type": "code",
   "execution_count": 3,
   "id": "5c53c29d",
   "metadata": {},
   "outputs": [
    {
     "name": "stdout",
     "output_type": "stream",
     "text": [
      "O arquivo especificado não foi encontrado.\n"
     ]
    }
   ],
   "source": [
    "try:\n",
    "    with open(\"arquivo_inexistente.txt\", \"r\") as arquivo:\n",
    "        conteudo = arquivo.read()\n",
    "except FileNotFoundError:\n",
    "    print(\"O arquivo especificado não foi encontrado.\")"
   ]
  },
  {
   "cell_type": "code",
   "execution_count": null,
   "id": "876c0a7e",
   "metadata": {},
   "outputs": [],
   "source": []
  }
 ],
 "metadata": {
  "kernelspec": {
   "display_name": "Python 3 (ipykernel)",
   "language": "python",
   "name": "python3"
  },
  "language_info": {
   "codemirror_mode": {
    "name": "ipython",
    "version": 3
   },
   "file_extension": ".py",
   "mimetype": "text/x-python",
   "name": "python",
   "nbconvert_exporter": "python",
   "pygments_lexer": "ipython3",
   "version": "3.9.12"
  }
 },
 "nbformat": 4,
 "nbformat_minor": 5
}
