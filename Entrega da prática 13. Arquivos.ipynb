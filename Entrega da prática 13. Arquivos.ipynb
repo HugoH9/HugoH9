{
 "cells": [
  {
   "cell_type": "code",
   "execution_count": 11,
   "id": "f542a6d3",
   "metadata": {},
   "outputs": [
    {
     "name": "stdout",
     "output_type": "stream",
     "text": [
      "Nome do arquivo: C:\\Users\\zSpiritu\\Python\\provas.txt\n",
      "Modo de abertura: r\n",
      "Está fechado: False\n",
      "Conteúdo do arquivo:\n",
      "Ola amigos\n"
     ]
    }
   ],
   "source": [
    "# Abre o arquivo\n",
    "file = open(r\"C:\\Users\\zSpiritu\\Python\\provas.txt\")\n",
    "\n",
    "# Obtém o nome do arquivo\n",
    "nome_do_arquivo = file.name\n",
    "\n",
    "# Obtém o modo de abertura do arquivo\n",
    "modo_de_abertura = file.mode\n",
    "\n",
    "# Verifica se o arquivo está fechado\n",
    "esta_fechado = file.closed\n",
    "\n",
    "# Imprime o nome do arquivo\n",
    "print(\"Nome do arquivo:\", nome_do_arquivo)\n",
    "\n",
    "# Imprime o modo de abertura do arquivo\n",
    "print(\"Modo de abertura:\", modo_de_abertura)\n",
    "\n",
    "# Imprime se o arquivo está fechado ou não\n",
    "print(\"Está fechado:\", esta_fechado)\n",
    "\n",
    "# Lê e imprime o conteúdo do arquivo\n",
    "conteudo = file.read()\n",
    "print(\"Conteúdo do arquivo:\")\n",
    "print(conteudo)\n",
    "\n",
    "# Fecha o arquivo\n",
    "file.close()\n"
   ]
  },
  {
   "cell_type": "code",
   "execution_count": 17,
   "id": "97e5aab1",
   "metadata": {},
   "outputs": [
    {
     "name": "stdout",
     "output_type": "stream",
     "text": [
      "Ola, que tal esta\n",
      "Isto e uma prova\n",
      "Hoje nao chove\n",
      "Aproxima-se o natal\n",
      "Ate logo e muito boas\n"
     ]
    }
   ],
   "source": [
    "print(file.read())"
   ]
  },
  {
   "cell_type": "code",
   "execution_count": 20,
   "id": "55c4700e",
   "metadata": {},
   "outputs": [
    {
     "name": "stdout",
     "output_type": "stream",
     "text": [
      "{'mode': 'r'}\n"
     ]
    }
   ],
   "source": [
    "print(vars(file))"
   ]
  },
  {
   "cell_type": "code",
   "execution_count": 86,
   "id": "f9ececab",
   "metadata": {},
   "outputs": [],
   "source": [
    "file.close()"
   ]
  },
  {
   "cell_type": "code",
   "execution_count": 26,
   "id": "9d6a74bf",
   "metadata": {},
   "outputs": [
    {
     "data": {
      "text/plain": [
       "['Ola, que tal esta\\n',\n",
       " 'Isto e uma prova\\n',\n",
       " 'Hoje nao chove\\n',\n",
       " 'Aproxima-se o natal\\n',\n",
       " 'Ate logo e muito boas']"
      ]
     },
     "execution_count": 26,
     "metadata": {},
     "output_type": "execute_result"
    }
   ],
   "source": [
    "#ex 2\n",
    "file = open(\"provas.txt\",\"r\")\n",
    "file.readlines()"
   ]
  },
  {
   "cell_type": "code",
   "execution_count": 40,
   "id": "be1e712c",
   "metadata": {},
   "outputs": [
    {
     "data": {
      "text/plain": [
       "'Ola, que tal esta\\n'"
      ]
     },
     "execution_count": 40,
     "metadata": {},
     "output_type": "execute_result"
    }
   ],
   "source": [
    "file = open(\"provas.txt\",\"r\")\n",
    "file.readline()"
   ]
  },
  {
   "cell_type": "code",
   "execution_count": 92,
   "id": "8b0d5d8c",
   "metadata": {},
   "outputs": [],
   "source": [
    "file.close()"
   ]
  },
  {
   "cell_type": "code",
   "execution_count": 89,
   "id": "1b7f1117",
   "metadata": {},
   "outputs": [
    {
     "name": "stdout",
     "output_type": "stream",
     "text": [
      "hugo\n"
     ]
    }
   ],
   "source": [
    "#ex 3\n",
    "a = input()\n",
    "file = open(\"provas.txt\",\"a\")\n"
   ]
  },
  {
   "cell_type": "code",
   "execution_count": 91,
   "id": "ecb3841c",
   "metadata": {},
   "outputs": [
    {
     "data": {
      "text/plain": [
       "4"
      ]
     },
     "execution_count": 91,
     "metadata": {},
     "output_type": "execute_result"
    }
   ],
   "source": [
    "file.write(a)"
   ]
  },
  {
   "cell_type": "code",
   "execution_count": 93,
   "id": "185a0ad1",
   "metadata": {},
   "outputs": [
    {
     "data": {
      "text/plain": [
       "10"
      ]
     },
     "execution_count": 93,
     "metadata": {},
     "output_type": "execute_result"
    }
   ],
   "source": [
    "#ex 4\n",
    "file = open(\"provas.txt\",\"w\")\n",
    "file.write(\"Ola amigos\")\n",
    "# o \"ola amigos\" foi parar no execicio 1 novamente porque executei no ex1 para atualizar"
   ]
  },
  {
   "cell_type": "code",
   "execution_count": 1,
   "id": "53f363fe",
   "metadata": {},
   "outputs": [
    {
     "name": "stdout",
     "output_type": "stream",
     "text": [
      "(id=1) Carlos Perez => 05/01/1989\n",
      "(id=2) Manuel Heredia => 26/12/197\n",
      "(id=3) Rosa Campos => 12/06/1961\n",
      "(id=4) David Garcia => 25/07/2006\n"
     ]
    }
   ],
   "source": [
    "pessoas = []\n",
    "with open(\"pessoas.txt\", encoding=\"utf8\") as file:\n",
    "    for line in file:\n",
    "        pessoa = {}\n",
    "        campos = line.strip().split(\";\")\n",
    "        pessoa[\"id\"] = campos[0]\n",
    "        pessoa[\"nome\"] = campos[1]\n",
    "        pessoa[\"apelido\"] = campos[2]\n",
    "        pessoa[\"nascimento\"] = campos[3]\n",
    "        pessoas.append(pessoa)\n",
    "\n",
    "for pessoa in pessoas:\n",
    "    print(\"(id={}) {} {} => {}\".format(pessoa[\"id\"], pessoa[\"nome\"], pessoa[\"apelido\"], pessoa[\"nascimento\"]))"
   ]
  },
  {
   "cell_type": "code",
   "execution_count": null,
   "id": "c11f084b",
   "metadata": {},
   "outputs": [],
   "source": []
  }
 ],
 "metadata": {
  "kernelspec": {
   "display_name": "Python 3 (ipykernel)",
   "language": "python",
   "name": "python3"
  },
  "language_info": {
   "codemirror_mode": {
    "name": "ipython",
    "version": 3
   },
   "file_extension": ".py",
   "mimetype": "text/x-python",
   "name": "python",
   "nbconvert_exporter": "python",
   "pygments_lexer": "ipython3",
   "version": "3.9.12"
  }
 },
 "nbformat": 4,
 "nbformat_minor": 5
}
