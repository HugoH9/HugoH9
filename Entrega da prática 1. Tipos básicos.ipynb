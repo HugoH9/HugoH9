{
 "cells": [
  {
   "cell_type": "code",
   "execution_count": 4,
   "id": "74fb76b3",
   "metadata": {},
   "outputs": [
    {
     "data": {
      "text/plain": [
       "str"
      ]
     },
     "execution_count": 4,
     "metadata": {},
     "output_type": "execute_result"
    }
   ],
   "source": [
    "type(\"Olá Mundo\")\n",
    "\n"
   ]
  },
  {
   "cell_type": "code",
   "execution_count": 5,
   "id": "35307522",
   "metadata": {},
   "outputs": [
    {
     "data": {
      "text/plain": [
       "bool"
      ]
     },
     "execution_count": 5,
     "metadata": {},
     "output_type": "execute_result"
    }
   ],
   "source": [
    "type(True)\n"
   ]
  },
  {
   "cell_type": "code",
   "execution_count": 6,
   "id": "195c2e16",
   "metadata": {},
   "outputs": [
    {
     "data": {
      "text/plain": [
       "int"
      ]
     },
     "execution_count": 6,
     "metadata": {},
     "output_type": "execute_result"
    }
   ],
   "source": [
    "type(-25)\n"
   ]
  },
  {
   "cell_type": "code",
   "execution_count": 7,
   "id": "7273892d",
   "metadata": {},
   "outputs": [
    {
     "data": {
      "text/plain": [
       "float"
      ]
     },
     "execution_count": 7,
     "metadata": {},
     "output_type": "execute_result"
    }
   ],
   "source": [
    "type(1.167)\n"
   ]
  },
  {
   "cell_type": "code",
   "execution_count": 8,
   "id": "76566c84",
   "metadata": {},
   "outputs": [
    {
     "data": {
      "text/plain": [
       "str"
      ]
     },
     "execution_count": 8,
     "metadata": {},
     "output_type": "execute_result"
    }
   ],
   "source": [
    "type(' ')\n"
   ]
  },
  {
   "cell_type": "code",
   "execution_count": null,
   "id": "43869d5e",
   "metadata": {},
   "outputs": [],
   "source": [
    "#ex 2"
   ]
  },
  {
   "cell_type": "code",
   "execution_count": 9,
   "id": "fa6b9b54",
   "metadata": {},
   "outputs": [],
   "source": [
    "a = 10\n",
    "b = -5\n",
    "c = \"Ola \"\n"
   ]
  },
  {
   "cell_type": "code",
   "execution_count": 11,
   "id": "82a677be",
   "metadata": {},
   "outputs": [
    {
     "name": "stdout",
     "output_type": "stream",
     "text": [
      "50\n"
     ]
    }
   ],
   "source": [
    "print(a * 5)\n"
   ]
  },
  {
   "cell_type": "code",
   "execution_count": 12,
   "id": "51197c80",
   "metadata": {},
   "outputs": [
    {
     "name": "stdout",
     "output_type": "stream",
     "text": [
      "15\n"
     ]
    }
   ],
   "source": [
    "print(a - b)\n"
   ]
  },
  {
   "cell_type": "code",
   "execution_count": 13,
   "id": "e9b03f6f",
   "metadata": {},
   "outputs": [
    {
     "name": "stdout",
     "output_type": "stream",
     "text": [
      "Ola Mundo\n"
     ]
    }
   ],
   "source": [
    "print(c + \"Mundo\")\n"
   ]
  },
  {
   "cell_type": "code",
   "execution_count": 14,
   "id": "bc31d635",
   "metadata": {},
   "outputs": [
    {
     "name": "stdout",
     "output_type": "stream",
     "text": [
      "Ola Ola \n"
     ]
    }
   ],
   "source": [
    "print(c * 2)"
   ]
  },
  {
   "cell_type": "code",
   "execution_count": 15,
   "id": "c9af3a43",
   "metadata": {},
   "outputs": [
    {
     "name": "stdout",
     "output_type": "stream",
     "text": [
      " \n"
     ]
    }
   ],
   "source": [
    "print(c[-1])\n"
   ]
  },
  {
   "cell_type": "code",
   "execution_count": 16,
   "id": "067d052d",
   "metadata": {},
   "outputs": [
    {
     "name": "stdout",
     "output_type": "stream",
     "text": [
      "la \n"
     ]
    }
   ],
   "source": [
    "print(c[1:])\n"
   ]
  },
  {
   "cell_type": "code",
   "execution_count": null,
   "id": "c5e77833",
   "metadata": {},
   "outputs": [],
   "source": [
    "#ex3"
   ]
  },
  {
   "cell_type": "code",
   "execution_count": 17,
   "id": "18c3aef0",
   "metadata": {},
   "outputs": [],
   "source": [
    "string1 = \"Olá, eu sou uma string!\"\n",
    "string2 = \".\" * 50\n",
    "string3 = \"Essa é a terceira string.\"\n",
    "quarta_string = string1 + \"-\" + string2 + \"-\" + string3\n"
   ]
  },
  {
   "cell_type": "code",
   "execution_count": 18,
   "id": "1542a439",
   "metadata": {},
   "outputs": [
    {
     "name": "stdout",
     "output_type": "stream",
     "text": [
      "Olá, eu sou uma string!-..................................................-Essa é a terceira string.\n"
     ]
    }
   ],
   "source": [
    "print(quarta_string)\n"
   ]
  },
  {
   "cell_type": "code",
   "execution_count": 19,
   "id": "e5d53fe1",
   "metadata": {},
   "outputs": [
    {
     "name": "stdout",
     "output_type": "stream",
     "text": [
      "Olá, \n"
     ]
    }
   ],
   "source": [
    "print(quarta_string[:5])\n"
   ]
  },
  {
   "cell_type": "code",
   "execution_count": 20,
   "id": "a4f96cc4",
   "metadata": {},
   "outputs": [
    {
     "name": "stdout",
     "output_type": "stream",
     "text": [
      "ring.\n"
     ]
    }
   ],
   "source": [
    "print(quarta_string[-5:])\n"
   ]
  },
  {
   "cell_type": "code",
   "execution_count": null,
   "id": "53f12bac",
   "metadata": {},
   "outputs": [],
   "source": []
  }
 ],
 "metadata": {
  "kernelspec": {
   "display_name": "Python 3 (ipykernel)",
   "language": "python",
   "name": "python3"
  },
  "language_info": {
   "codemirror_mode": {
    "name": "ipython",
    "version": 3
   },
   "file_extension": ".py",
   "mimetype": "text/x-python",
   "name": "python",
   "nbconvert_exporter": "python",
   "pygments_lexer": "ipython3",
   "version": "3.9.12"
  }
 },
 "nbformat": 4,
 "nbformat_minor": 5
}
