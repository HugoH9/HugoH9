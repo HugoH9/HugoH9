{
 "cells": [
  {
   "cell_type": "code",
   "execution_count": 5,
   "id": "183b15f7",
   "metadata": {},
   "outputs": [
    {
     "name": "stdout",
     "output_type": "stream",
     "text": [
      "Digite o primeiro número: 1\n",
      "Digite o segundo número: 2\n",
      "Digite o terceiro número: 3\n",
      "Os números estão em ordem ascendente.\n"
     ]
    }
   ],
   "source": [
    "# Pedir três números ao usuário\n",
    "num1 = float(input(\"Digite o primeiro número: \"))\n",
    "num2 = float(input(\"Digite o segundo número: \"))\n",
    "num3 = float(input(\"Digite o terceiro número: \"))\n",
    "\n",
    "# Verificar se o primeiro número é zero\n",
    "if num1 == 0:\n",
    "    print(\"O primeiro número não pode ser zero.\")\n",
    "else:\n",
    "    # Verificar se os números estão em ordem ascendente\n",
    "    if num1 < num2 < num3:\n",
    "        print(\"Os números estão em ordem ascendente.\")\n",
    "    else:\n",
    "        print(\"Os números não estão em ordem ascendente.\")\n"
   ]
  },
  {
   "cell_type": "code",
   "execution_count": null,
   "id": "9d1de58a",
   "metadata": {},
   "outputs": [],
   "source": []
  },
  {
   "cell_type": "code",
   "execution_count": 18,
   "id": "31abea9b",
   "metadata": {},
   "outputs": [
    {
     "name": "stdout",
     "output_type": "stream",
     "text": [
      "Digite um número inteiro: 5\n",
      "O somatório dos 5 primeiros números é igual a:  10\n"
     ]
    }
   ],
   "source": [
    "# Solicita ao usuário que digite um número inteiro\n",
    "numero = int(input(\"Digite um número inteiro: \"))\n",
    "\n",
    "# Inicializa a variável que armazenará o resultado do somatório\n",
    "soma = 0\n",
    "\n",
    "# Loop para somar os números de 0 até (numero-1)\n",
    "for i in range(numero):\n",
    "    soma += i\n",
    "\n",
    "# Exibe o resultado\n",
    "print(\"O somatório dos\", numero ,\"primeiros números é igual a: \",soma)\n"
   ]
  },
  {
   "cell_type": "code",
   "execution_count": null,
   "id": "7ede92b9",
   "metadata": {},
   "outputs": [],
   "source": [
    "# NESTE CASO A SOMA FOI DE 0+1+2+3+4 (O NUMERO ZERO MESMO QUANDO ESTÁ SOZINHO\n",
    "# É CONTABILIZADO COMO UM NUMERO NA HORA DA SOMA)\n",
    "# E TAMBEM FOI ASSIM QUE O EXERCICIO PEDIU,NOS EXEMPLOS DO EXERCICIOS DIZ 0+1+2+3+4.\n"
   ]
  },
  {
   "cell_type": "code",
   "execution_count": null,
   "id": "e27ba96b",
   "metadata": {},
   "outputs": [],
   "source": []
  },
  {
   "cell_type": "code",
   "execution_count": 21,
   "id": "5468db3b",
   "metadata": {},
   "outputs": [
    {
     "name": "stdout",
     "output_type": "stream",
     "text": [
      "Digite o primeiro número: 2\n",
      "Digite o segundo número: 4\n",
      "Menu:\n",
      "1. Mostrar a soma dos dois primeiros números\n",
      "2. Mostrar a subtração do primeiro pelo segundo número\n",
      "3. Mostrar a multiplicação dos dois primeiros números\n",
      "Escolha uma opção (1/2/3): 1\n",
      "A soma é: 6.0\n"
     ]
    }
   ],
   "source": [
    "# Solicitar três números ao usuário\n",
    "numero1 = float(input(\"Digite o primeiro número: \"))\n",
    "numero2 = float(input(\"Digite o segundo número: \"))\n",
    "\n",
    "# Exibir o menu\n",
    "print(\"Menu:\")\n",
    "print(\"1. Mostrar a soma dos dois primeiros números\")\n",
    "print(\"2. Mostrar a subtração do primeiro pelo segundo número\")\n",
    "print(\"3. Mostrar a multiplicação dos dois primeiros números\")\n",
    "\n",
    "# Solicitar a escolha do usuário\n",
    "opcao = int(input(\"Escolha uma opção (1/2/3): \"))\n",
    "\n",
    "# Realizar a operação correspondente com base na escolha do usuário\n",
    "if opcao == 1:\n",
    "    resultado = numero1 + numero2\n",
    "    print(\"A soma é:\", resultado)\n",
    "elif opcao == 2:\n",
    "    resultado = numero1 - numero2\n",
    "    print(\"A subtração é:\", resultado)\n",
    "elif opcao == 3:\n",
    "    resultado = numero1 * numero2\n",
    "    print(\"A multiplicação é:\", resultado)\n",
    "else:\n",
    "    print(\"Opção não válida. Por favor, escolha 1, 2 ou 3.\")\n"
   ]
  },
  {
   "cell_type": "markdown",
   "id": "5cf14a27",
   "metadata": {},
   "source": []
  },
  {
   "cell_type": "code",
   "execution_count": 27,
   "id": "fe9fb8d8",
   "metadata": {},
   "outputs": [
    {
     "name": "stdout",
     "output_type": "stream",
     "text": [
      "Digite uma palavra (ou '.' para sair): Ana\n",
      "Digite outra palavra (ou '.' para sair): .\n",
      "A letra 'a' foi escrita 2 vezes.\n"
     ]
    }
   ],
   "source": [
    "# Inicialize uma variável para contar a quantidade de vezes que a letra \"a\" foi escrita\n",
    "contador_a = 0\n",
    "\n",
    "# Solicite uma palavra ao usuário\n",
    "palavra = input(\"Digite uma palavra (ou '.' para sair): \")\n",
    "\n",
    "# Continue pedindo palavras até que o usuário insira um ponto \".\"\n",
    "while palavra != \".\":\n",
    "    # Itere pelos caracteres da palavra\n",
    "    for letra in palavra:\n",
    "        # Verifique se a letra é \"a\" (minúscula ou maiúscula) e atualize o contador\n",
    "        if letra.lower() == \"a\":\n",
    "            contador_a += 1\n",
    "\n",
    "    # Peça outra palavra ao usuário\n",
    "    palavra = input(\"Digite outra palavra (ou '.' para sair): \")\n",
    "\n",
    "# Mostre o número de vezes que a letra \"a\" foi escrita\n",
    "print(f\"A letra 'a' foi escrita {contador_a} vezes.\")\n",
    "\n"
   ]
  },
  {
   "cell_type": "code",
   "execution_count": null,
   "id": "00dcf536",
   "metadata": {},
   "outputs": [],
   "source": []
  },
  {
   "cell_type": "code",
   "execution_count": 30,
   "id": "d709e35f",
   "metadata": {},
   "outputs": [
    {
     "name": "stdout",
     "output_type": "stream",
     "text": [
      "Digite um número ímpar: 1\n",
      "Digite um número ímpar: 2\n",
      "Você digitou um número par. O programa parou.\n"
     ]
    }
   ],
   "source": [
    "while True:\n",
    "    numero = int(input(\"Digite um número ímpar: \"))\n",
    "    \n",
    "    if numero % 2 == 0:\n",
    "        print(\"Você digitou um número par. O programa parou.\")\n",
    "        break\n"
   ]
  },
  {
   "cell_type": "code",
   "execution_count": null,
   "id": "170d9b93",
   "metadata": {},
   "outputs": [],
   "source": []
  },
  {
   "cell_type": "code",
   "execution_count": 32,
   "id": "981b8736",
   "metadata": {},
   "outputs": [
    {
     "name": "stdout",
     "output_type": "stream",
     "text": [
      "0\n",
      "2\n",
      "4\n",
      "6\n",
      "8\n",
      "10\n",
      "12\n",
      "14\n",
      "16\n",
      "18\n",
      "20\n",
      "22\n",
      "24\n",
      "26\n",
      "28\n",
      "30\n",
      "32\n",
      "34\n",
      "36\n",
      "38\n",
      "40\n",
      "42\n",
      "44\n",
      "46\n",
      "48\n",
      "50\n",
      "52\n",
      "54\n",
      "56\n",
      "58\n",
      "60\n",
      "62\n",
      "64\n",
      "66\n",
      "68\n",
      "70\n",
      "72\n",
      "74\n",
      "76\n",
      "78\n",
      "80\n",
      "82\n",
      "84\n",
      "86\n",
      "88\n",
      "90\n",
      "92\n",
      "94\n",
      "96\n",
      "98\n",
      "100\n"
     ]
    }
   ],
   "source": [
    "for numero in range(0, 101, 2):\n",
    "    print(numero)\n"
   ]
  },
  {
   "cell_type": "code",
   "execution_count": null,
   "id": "c391f4d2",
   "metadata": {},
   "outputs": [],
   "source": []
  },
  {
   "cell_type": "code",
   "execution_count": 46,
   "id": "7f986eee",
   "metadata": {},
   "outputs": [
    {
     "name": "stdout",
     "output_type": "stream",
     "text": [
      "Digite o total de números: 3\n",
      "Digite algum número: 2\n",
      "Digite algum número: 3\n",
      "Digite algum número: 4\n",
      "A média dos 3 números é: 3.0\n"
     ]
    }
   ],
   "source": [
    "# Solicita ao usuário o número total de números\n",
    "total_numeros = int(input(\"Digite o total de números: \"))\n",
    "\n",
    "# Inicializa uma variável para armazenar a soma dos números\n",
    "soma = 0\n",
    "\n",
    "# Lê os números e os adiciona à soma\n",
    "for i in range(total_numeros):\n",
    "    numero = float(input(f\"Digite algum número: \"))\n",
    "    soma += numero\n",
    "\n",
    "# Calcula a média aritmética\n",
    "media = soma / total_numeros\n",
    "\n",
    "# Exibe a média\n",
    "print(f\"A média dos {total_numeros} números é: {media}\")\n"
   ]
  },
  {
   "cell_type": "code",
   "execution_count": null,
   "id": "09cfd375",
   "metadata": {},
   "outputs": [],
   "source": []
  },
  {
   "cell_type": "code",
   "execution_count": 48,
   "id": "d3390d0d",
   "metadata": {},
   "outputs": [
    {
     "name": "stdout",
     "output_type": "stream",
     "text": [
      "Digite um número inteiro de 0 a 9: 12\n",
      "Número fora do intervalo. Tente novamente.\n",
      "Digite um número inteiro de 0 a 9: 22\n",
      "Número fora do intervalo. Tente novamente.\n",
      "Digite um número inteiro de 0 a 9: 2\n",
      "2 está na lista de números.\n"
     ]
    }
   ],
   "source": [
    "# Defina a lista de números\n",
    "numeros = [0, 1, 2, 3, 4, 5, 6, 7, 8, 9]\n",
    "\n",
    "# Solicite ao usuário um número inteiro de 0 a 9\n",
    "while True:\n",
    "    numero = int(input(\"Digite um número inteiro de 0 a 9: \"))\n",
    "    \n",
    "    # Verifique se o número está no intervalo de 0 a 9\n",
    "    if 0 <= numero <= 9:\n",
    "        break  # Sai do loop se estiver no intervalo\n",
    "    else:\n",
    "        print(\"Número fora do intervalo. Tente novamente.\")\n",
    "\n",
    "# Verifique se o número está na lista\n",
    "if numero in numeros:\n",
    "    print(f\"{numero} está na lista de números.\")\n",
    "else:\n",
    "    print(f\"{numero} não está na lista de números.\")\n"
   ]
  },
  {
   "cell_type": "code",
   "execution_count": null,
   "id": "164dcd6a",
   "metadata": {},
   "outputs": [],
   "source": []
  },
  {
   "cell_type": "code",
   "execution_count": 49,
   "id": "dd94f55f",
   "metadata": {},
   "outputs": [
    {
     "name": "stdout",
     "output_type": "stream",
     "text": [
      "[0, 1, 2, 3, 4, 5, 6, 7, 8, 9, 10]\n",
      "[-10, -9, -8, -7, -6, -5, -4, -3, -2, -1, 0]\n",
      "[0, 2, 4, 6, 8, 10, 12, 14, 16, 18, 20]\n",
      "[-19, -17, -15, -13, -11, -9, -7, -5, -3, -1]\n",
      "[0, 5, 10, 15, 20, 25, 30, 35, 40, 45, 50]\n"
     ]
    }
   ],
   "source": [
    "# Todos os números do 0 ao 10\n",
    "lista1 = list(range(11))\n",
    "print(lista1)\n",
    "\n",
    "# Todos os números do -10 ao 0\n",
    "lista2 = list(range(-10, 1))\n",
    "print(lista2)\n",
    "\n",
    "# Todos os números pares do 0 ao 20\n",
    "lista3 = list(range(0, 21, 2))\n",
    "print(lista3)\n",
    "\n",
    "# Todos os números ímpares entre -20 e 0\n",
    "lista4 = list(range(-19, 0, 2))\n",
    "print(lista4)\n",
    "\n",
    "# Todos os números múltiplos de 5 do 0 ao 50\n",
    "lista5 = list(range(0, 51, 5))\n",
    "print(lista5)\n"
   ]
  },
  {
   "cell_type": "code",
   "execution_count": null,
   "id": "d76b10ec",
   "metadata": {},
   "outputs": [],
   "source": []
  },
  {
   "cell_type": "code",
   "execution_count": 50,
   "id": "aee038fb",
   "metadata": {},
   "outputs": [
    {
     "name": "stdout",
     "output_type": "stream",
     "text": [
      "['O', 'l', 'a', ' ', 'u']\n"
     ]
    }
   ],
   "source": [
    "lista_1 = ['O', 'l', 'a', ' ', 'm', 'u', 'n', 'd', 'o']\n",
    "lista_2 = ['O', 'l', 'a', ' ', 'l', 'u', 'a']\n",
    "lista_3 = []\n",
    "\n",
    "for elemento in lista_1:\n",
    "    if elemento in lista_2 and elemento not in lista_3:\n",
    "        lista_3.append(elemento)\n",
    "\n",
    "for elemento in lista_2:\n",
    "    if elemento in lista_1 and elemento not in lista_3:\n",
    "        lista_3.append(elemento)\n",
    "\n",
    "print(lista_3)\n"
   ]
  },
  {
   "cell_type": "code",
   "execution_count": null,
   "id": "7e85a1b6",
   "metadata": {},
   "outputs": [],
   "source": []
  }
 ],
 "metadata": {
  "kernelspec": {
   "display_name": "Python 3 (ipykernel)",
   "language": "python",
   "name": "python3"
  },
  "language_info": {
   "codemirror_mode": {
    "name": "ipython",
    "version": 3
   },
   "file_extension": ".py",
   "mimetype": "text/x-python",
   "name": "python",
   "nbconvert_exporter": "python",
   "pygments_lexer": "ipython3",
   "version": "3.9.12"
  }
 },
 "nbformat": 4,
 "nbformat_minor": 5
}
