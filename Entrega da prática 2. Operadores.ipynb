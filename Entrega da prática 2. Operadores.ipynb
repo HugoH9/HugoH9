{
 "cells": [
  {
   "cell_type": "code",
   "execution_count": 1,
   "id": "566b014b",
   "metadata": {},
   "outputs": [
    {
     "name": "stdout",
     "output_type": "stream",
     "text": [
      "A nota média é 7.333333333333333\n"
     ]
    }
   ],
   "source": [
    "nota1 = 7.5\n",
    "nota2 = 6.0\n",
    "nota3 = 8.5\n",
    "\n",
    "media = (nota1 + nota2 + nota3) / 3\n",
    "\n",
    "print(\"A nota média é\", media)\n"
   ]
  },
  {
   "cell_type": "code",
   "execution_count": 2,
   "id": "41a5e796",
   "metadata": {},
   "outputs": [],
   "source": [
    "#ex2"
   ]
  },
  {
   "cell_type": "code",
   "execution_count": 3,
   "id": "27539bd9",
   "metadata": {},
   "outputs": [
    {
     "name": "stdout",
     "output_type": "stream",
     "text": [
      "A nota média ponderada é 7.475\n"
     ]
    }
   ],
   "source": [
    "nota1 = 7.5\n",
    "nota2 = 6.0\n",
    "nota3 = 8.5\n",
    "\n",
    "media_ponderada = (nota1 * 0.15) + (nota2 * 0.35) + (nota3 * 0.5)\n",
    "\n",
    "print(\"A nota média ponderada é\", media_ponderada)"
   ]
  },
  {
   "cell_type": "code",
   "execution_count": null,
   "id": "777de355",
   "metadata": {},
   "outputs": [],
   "source": [
    "#ex3"
   ]
  },
  {
   "cell_type": "code",
   "execution_count": 5,
   "id": "295e63e4",
   "metadata": {},
   "outputs": [
    {
     "name": "stdout",
     "output_type": "stream",
     "text": [
      "Digite o primeiro valor: 33\n",
      "Digite o segundo valor: 3\n",
      "Os dois números são iguais? False\n",
      "Os dois números são diferentes? True\n",
      "O primeiro valor é maior que o segundo? True\n",
      "O segundo valor é maior ou igual ao primeiro? False\n"
     ]
    }
   ],
   "source": [
    "valor1 = float(input(\"Digite o primeiro valor: \"))\n",
    "valor2 = float(input(\"Digite o segundo valor: \"))\n",
    "\n",
    "iguais = valor1 == valor2\n",
    "\n",
    "diferentes = valor1 != valor2\n",
    "\n",
    "maior1 = valor1 > valor2\n",
    "\n",
    "maior_ou_igual2 = valor2 >= valor1\n",
    "\n",
    "print(\"Os dois números são iguais?\", iguais)\n",
    "print(\"Os dois números são diferentes?\", diferentes)\n",
    "print(\"O primeiro valor é maior que o segundo?\", maior1)\n",
    "print(\"O segundo valor é maior ou igual ao primeiro?\", maior_ou_igual2)"
   ]
  },
  {
   "cell_type": "code",
   "execution_count": null,
   "id": "111fc8db",
   "metadata": {},
   "outputs": [],
   "source": [
    "#ex4"
   ]
  },
  {
   "cell_type": "code",
   "execution_count": 6,
   "id": "95b5d073",
   "metadata": {},
   "outputs": [
    {
     "name": "stdout",
     "output_type": "stream",
     "text": [
      "Digite a primeira string: sdf\n",
      "Digite a segunda string: ee\n",
      "A primeira string tem comprimento válido? True\n",
      "A segunda string tem comprimento válido? False\n"
     ]
    }
   ],
   "source": [
    "str1 = input(\"Digite a primeira string: \")\n",
    "str2 = input(\"Digite a segunda string: \")\n",
    "\n",
    "comprimento_valido_str1 = len(str1) >= 3 and len(str1) < 10\n",
    "comprimento_valido_str2 = len(str2) >= 3 and len(str2) < 10\n",
    "\n",
    "print(\"A primeira string tem comprimento válido?\", comprimento_valido_str1)\n",
    "print(\"A segunda string tem comprimento válido?\", comprimento_valido_str2)\n",
    "\n",
    "    "
   ]
  },
  {
   "cell_type": "code",
   "execution_count": 9,
   "id": "2ed563a9",
   "metadata": {},
   "outputs": [],
   "source": [
    "#ex5"
   ]
  },
  {
   "cell_type": "code",
   "execution_count": 8,
   "id": "f878871c",
   "metadata": {},
   "outputs": [
    {
     "name": "stdout",
     "output_type": "stream",
     "text": [
      "Digite um número entre 1 e 9: 23\n",
      "O número mágico é: 2555555553\n"
     ]
    }
   ],
   "source": [
    "numero_magico = 12345679\n",
    "\n",
    "numero_utilizador = int(input(\"Digite um número entre 1 e 9: \"))\n",
    "\n",
    "numero_utilizador *= 9\n",
    "\n",
    "numero_magico *= numero_utilizador\n",
    "\n",
    "print(\"O número mágico é:\", numero_magico)"
   ]
  },
  {
   "cell_type": "code",
   "execution_count": null,
   "id": "89845c92",
   "metadata": {},
   "outputs": [],
   "source": []
  }
 ],
 "metadata": {
  "kernelspec": {
   "display_name": "Python 3 (ipykernel)",
   "language": "python",
   "name": "python3"
  },
  "language_info": {
   "codemirror_mode": {
    "name": "ipython",
    "version": 3
   },
   "file_extension": ".py",
   "mimetype": "text/x-python",
   "name": "python",
   "nbconvert_exporter": "python",
   "pygments_lexer": "ipython3",
   "version": "3.9.12"
  }
 },
 "nbformat": 4,
 "nbformat_minor": 5
}
