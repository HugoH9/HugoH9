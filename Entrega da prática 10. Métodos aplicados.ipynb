{
 "cells": [
  {
   "cell_type": "code",
   "execution_count": 4,
   "id": "d5584560",
   "metadata": {},
   "outputs": [
    {
     "name": "stdout",
     "output_type": "stream",
     "text": [
      "Por favor, insira um texto: oi,tudo bem? chamo-me hugo e tenho 22 anos.\n",
      "O texto não é uma cadeia de texto.\n",
      "O texto não é uma cadeia de dígitos.\n",
      "O texto não inclui caracteres e números.\n"
     ]
    }
   ],
   "source": [
    "text = input(\"Por favor, insira um texto: \")\n",
    "if text.isalpha():\n",
    "    print(\"O texto é uma cadeia de texto.\")\n",
    "else:\n",
    "    print(\"O texto não é uma cadeia de texto.\")\n",
    "if text.isdigit():\n",
    "    print(\"O texto é uma cadeia de dígitos.\")\n",
    "else:\n",
    "    print(\"O texto não é uma cadeia de dígitos.\")\n",
    "if text.isalnum():\n",
    "    print(\"O texto inclui caracteres e números.\")\n",
    "else:\n",
    "    print(\"O texto não inclui caracteres e números.\")\n"
   ]
  },
  {
   "cell_type": "code",
   "execution_count": 5,
   "id": "472ceffd",
   "metadata": {},
   "outputs": [
    {
     "name": "stdout",
     "output_type": "stream",
     "text": [
      "Digite o texto: ola,tudo bem? chamo-me hugo e tenho 22 anos.\n",
      "Digite a palavra a pesquisar: hugo\n",
      "Resultado: hugo e tenho 22 anos.\n"
     ]
    }
   ],
   "source": [
    "texto = input(\"Digite o texto: \")\n",
    "palavra = input(\"Digite a palavra a pesquisar: \")\n",
    "pos = texto.find(palavra)\n",
    "if pos != -1:\n",
    "    novo_texto = texto[pos:]\n",
    "    print(\"Resultado:\", novo_texto)\n",
    "else:\n",
    "    print(\"A palavra não foi encontrada no texto.\")"
   ]
  },
  {
   "cell_type": "code",
   "execution_count": 6,
   "id": "b1c7703b",
   "metadata": {},
   "outputs": [
    {
     "name": "stdout",
     "output_type": "stream",
     "text": [
      "['Olá', 'mundo', 'mundo', 'que', 'tal', 'mundo', 'estás']\n",
      "A palavra 'mundo' aparece 3 vezes na lista.\n",
      "A palavra 'mundo' aparece 3 vezes na lista.\n"
     ]
    }
   ],
   "source": [
    "texto = \"Olá mundo mundo que tal mundo estás\"\n",
    "lista = texto.split()\n",
    "print(lista)\n",
    "num_ocorrencias = lista.count(\"mundo\")\n",
    "print(\"A palavra 'mundo' aparece\", num_ocorrencias, \"vezes na lista.\")\n",
    "lista = [word.lower() for word in lista]\n",
    "num_ocorrencias = lista.count(\"mundo\")\n",
    "print(\"A palavra 'mundo' aparece\", num_ocorrencias, \"vezes na lista.\")\n"
   ]
  },
  {
   "cell_type": "code",
   "execution_count": null,
   "id": "86ea1389",
   "metadata": {},
   "outputs": [],
   "source": []
  }
 ],
 "metadata": {
  "kernelspec": {
   "display_name": "Python 3 (ipykernel)",
   "language": "python",
   "name": "python3"
  },
  "language_info": {
   "codemirror_mode": {
    "name": "ipython",
    "version": 3
   },
   "file_extension": ".py",
   "mimetype": "text/x-python",
   "name": "python",
   "nbconvert_exporter": "python",
   "pygments_lexer": "ipython3",
   "version": "3.9.12"
  }
 },
 "nbformat": 4,
 "nbformat_minor": 5
}
